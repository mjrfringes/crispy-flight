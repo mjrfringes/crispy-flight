{
 "cells": [
  {
   "cell_type": "markdown",
   "metadata": {},
   "source": [
    "# Flight IFS update"
   ]
  },
  {
   "cell_type": "code",
   "execution_count": 1,
   "metadata": {
    "ExecuteTime": {
     "end_time": "2018-08-02T20:43:13.911539Z",
     "start_time": "2018-08-02T20:43:13.082303Z"
    }
   },
   "outputs": [
    {
     "name": "stdout",
     "output_type": "stream",
     "text": [
      "Populating the interactive namespace from numpy and matplotlib\n"
     ]
    }
   ],
   "source": [
    "%pylab inline --no-import-all\n",
    "plt.rc('font', family='serif', serif='Times', size=15)\n",
    "plt.rc('text', usetex=True)\n",
    "plt.rc('xtick', labelsize=20)\n",
    "plt.rc('xtick.major', size=10)\n",
    "plt.rc('ytick.major', size=10)\n",
    "plt.rc('ytick', labelsize=20)\n",
    "plt.rc('axes', labelsize=20)\n",
    "plt.rc('figure', titlesize=25)\n",
    "plt.rcParams['image.origin'] = 'lower'\n",
    "plt.rcParams['image.interpolation'] = 'nearest'\n",
    "plt.rcParams['axes.linewidth'] = 2.\n",
    "from astropy.io import fits\n"
   ]
  },
  {
   "cell_type": "markdown",
   "metadata": {},
   "source": [
    "## Load wavecal "
   ]
  },
  {
   "cell_type": "code",
   "execution_count": 26,
   "metadata": {
    "ExecuteTime": {
     "end_time": "2018-08-02T19:00:27.214741Z",
     "start_time": "2018-08-02T19:00:27.174151Z"
    },
    "collapsed": true
   },
   "outputs": [],
   "source": [
    "calibname = '/Users/mrizzo/IFS/crispy/crispy/ReferenceFiles/wavecalR50_660/polychromekeyR50.fits'\n",
    "lam = fits.open(calibname)[0].data\n",
    "xindx = fits.open(calibname)[1].data\n",
    "yindx = fits.open(calibname)[2].data\n",
    "good = fits.open(calibname)[3].data"
   ]
  },
  {
   "cell_type": "code",
   "execution_count": 27,
   "metadata": {
    "ExecuteTime": {
     "end_time": "2018-08-02T19:00:27.224530Z",
     "start_time": "2018-08-02T19:00:27.217728Z"
    }
   },
   "outputs": [
    {
     "name": "stdout",
     "output_type": "stream",
     "text": [
      "(18, 108, 108) (18, 108, 108) (18, 108, 108)\n"
     ]
    }
   ],
   "source": [
    "print xindx.shape,yindx.shape,good.shape"
   ]
  },
  {
   "cell_type": "code",
   "execution_count": 28,
   "metadata": {
    "ExecuteTime": {
     "end_time": "2018-08-02T19:00:27.234572Z",
     "start_time": "2018-08-02T19:00:27.227789Z"
    }
   },
   "outputs": [
    {
     "name": "stdout",
     "output_type": "stream",
     "text": [
      "[ 603.64665462  609.78640642  615.98860627  622.25388932  628.58289721\n",
      "  634.97627808  641.43468668  647.95878442  654.54923942  661.20672661\n",
      "  667.93192778  674.72553167  681.58823399  688.52073756  695.52375233\n",
      "  702.59799548  709.74419148  716.96307216]\n"
     ]
    }
   ],
   "source": [
    "print lam"
   ]
  },
  {
   "cell_type": "markdown",
   "metadata": {},
   "source": [
    "## Take the 661 nm slice and try to update it with a 660nm monochromatic wavecal image"
   ]
  },
  {
   "cell_type": "code",
   "execution_count": 29,
   "metadata": {
    "ExecuteTime": {
     "end_time": "2018-08-02T19:00:27.263234Z",
     "start_time": "2018-08-02T19:00:27.258833Z"
    },
    "collapsed": true
   },
   "outputs": [],
   "source": [
    "x = xindx[9]\n",
    "y = yindx[9]\n"
   ]
  },
  {
   "cell_type": "code",
   "execution_count": 30,
   "metadata": {
    "ExecuteTime": {
     "end_time": "2018-08-02T19:00:27.272301Z",
     "start_time": "2018-08-02T19:00:27.266597Z"
    },
    "collapsed": true
   },
   "outputs": [],
   "source": [
    "halfsize=5\n",
    "snrthreshold=10\n",
    "apdiam=2"
   ]
  },
  {
   "cell_type": "code",
   "execution_count": 31,
   "metadata": {
    "ExecuteTime": {
     "end_time": "2018-08-02T19:00:27.282821Z",
     "start_time": "2018-08-02T19:00:27.275580Z"
    },
    "collapsed": true
   },
   "outputs": [],
   "source": [
    "def centroid(img):\n",
    "    lx,ly = img.shape\n",
    "    xgrid = np.arange(lx)\n",
    "    ygrid = np.arange(ly)\n",
    "    xgrid,ygrid = np.meshgrid(xgrid,ygrid)\n",
    "    sx = np.sum(xgrid*img)/np.sum(img)\n",
    "    sy = np.sum(ygrid*img)/np.sum(img)\n",
    "    return sx,sy"
   ]
  },
  {
   "cell_type": "code",
   "execution_count": null,
   "metadata": {
    "ExecuteTime": {
     "end_time": "2018-07-20T21:43:37.099122Z",
     "start_time": "2018-07-20T21:43:37.091806Z"
    },
    "collapsed": true
   },
   "outputs": [],
   "source": []
  },
  {
   "cell_type": "code",
   "execution_count": 32,
   "metadata": {
    "ExecuteTime": {
     "end_time": "2018-08-02T19:00:27.379489Z",
     "start_time": "2018-08-02T19:00:27.286026Z"
    }
   },
   "outputs": [
    {
     "name": "stdout",
     "output_type": "stream",
     "text": [
      "10.0\n"
     ]
    }
   ],
   "source": [
    "data = fits.getdata('/Users/mrizzo/IFS/crispy/crispy/ReferenceFiles/wavecalR50_660/det_655.fits')\n",
    "ysize, xsize = data.shape\n",
    "from astropy.stats import sigma_clipped_stats\n",
    "# mean, median, std = sigma_clipped_stats(data, sigma=3.0, iters=5)\n",
    "# print mean, median, std\n",
    "median = np.median(data)\n",
    "print median\n",
    "# from photutils import centroid_com as centroid\n",
    "# from scipy.ndimage import center_of_mass as centroid"
   ]
  },
  {
   "cell_type": "code",
   "execution_count": 33,
   "metadata": {
    "ExecuteTime": {
     "end_time": "2018-08-02T19:00:28.117225Z",
     "start_time": "2018-08-02T19:00:27.382370Z"
    }
   },
   "outputs": [
    {
     "name": "stderr",
     "output_type": "stream",
     "text": [
      "/Users/mrizzo/anaconda2/lib/python2.7/site-packages/ipykernel_launcher.py:6: RuntimeWarning: divide by zero encountered in double_scalars\n",
      "  \n",
      "/Users/mrizzo/anaconda2/lib/python2.7/site-packages/ipykernel_launcher.py:7: RuntimeWarning: divide by zero encountered in double_scalars\n",
      "  import sys\n"
     ]
    }
   ],
   "source": [
    "dy = np.zeros_like(y)\n",
    "dx = np.zeros_like(x)\n",
    "snr = np.zeros_like(x)\n",
    "mgrid = np.arange(2*halfsize)\n",
    "xgrid,ygrid = np.meshgrid(mgrid,mgrid)\n",
    "\n",
    "for j in range(x.shape[0]):\n",
    "    for k in range(x.shape[1]):\n",
    "        if good[9,j,k]:\n",
    "#         if j == 54 and k == 54:\n",
    "            xl = x[j,k]\n",
    "            yl = y[j,k]\n",
    "            xmin = int(xl-halfsize)+1\n",
    "            ymin = int(yl-halfsize)+1\n",
    "            if ymin>0 and xmin>0 and xmin+2*halfsize<xsize and ymin+2*halfsize<ysize:\n",
    "                # define cutout\n",
    "                cutout = data[ymin:ymin+2*halfsize,xmin:xmin+2*halfsize]-median\n",
    "                if j == 54 and k == 54:\n",
    "                    savecutout = cutout.copy()\n",
    "\n",
    "                # here is the new centroiding function: we could change this to something more robust\n",
    "                dx[j,k],dy[j,k] = centroid(cutout)\n",
    "\n",
    "                # mask used for elementary aperture photometry\n",
    "                apmask = (xgrid-dx[j,k])**2+(ygrid-dy[j,k])**2<apdiam**2\n",
    "                apval = np.nansum(apmask*cutout)\n",
    "    #                             snr[j,k] = apval/(np.sqrt(np.nansum(apmask))*std)\n",
    "\n",
    "                # estimate of SNR, only valid for very high fluxes, could do better\n",
    "#                 snr[j,k] = np.sqrt(np.abs(apval))\n",
    "                snr[j,k] = np.abs(apval)/np.sqrt(np.abs(apval)+median)\n",
    "                # apply threshold\n",
    "                if snr[j,k]<snrthreshold:\n",
    "                    dy[j,k] = np.NaN\n",
    "                    dx[j,k] = np.NaN\n",
    "                else:\n",
    "                    dy[j,k] -= y[j,k]-ymin\n",
    "                    dx[j,k] -= x[j,k]-xmin\n",
    "        else:\n",
    "            snr[j,k] = np.NaN\n",
    "            dy[j,k] = np.NaN\n",
    "            dx[j,k] = np.NaN\n",
    "            \n",
    "# ignore if new centroid is too out of whack\n",
    "# dy[np.abs(dy)>2]=np.NaN\n",
    "# dx[np.abs(dx)>2]=np.NaN"
   ]
  },
  {
   "cell_type": "code",
   "execution_count": 34,
   "metadata": {
    "ExecuteTime": {
     "end_time": "2018-08-02T19:00:28.536513Z",
     "start_time": "2018-08-02T19:00:28.120726Z"
    },
    "scrolled": false
   },
   "outputs": [
    {
     "name": "stdout",
     "output_type": "stream",
     "text": [
      "mean= -0.856141359052 error= 0.00318560177013\n",
      "mean= -0.00291102434242 error= 0.00304077148511\n"
     ]
    },
    {
     "data": {
      "image/png": "[encoded data removed]",
      "text/plain": [
       "<matplotlib.figure.Figure at 0x110e66850>"
      ]
     },
     "metadata": {},
     "output_type": "display_data"
    }
   ],
   "source": [
    "plt.figure(figsize=(10,10))\n",
    "plt.imshow(dx)\n",
    "plt.colorbar()\n",
    "print 'mean=',np.nanmean(dx),\"error=\",np.nanstd(dx)/np.sqrt(np.sum(~np.isnan(dx)))\n",
    "print 'mean=',np.nanmean(dy),\"error=\",np.nanstd(dy)/np.sqrt(np.sum(~np.isnan(dy)))"
   ]
  },
  {
   "cell_type": "code",
   "execution_count": 35,
   "metadata": {
    "ExecuteTime": {
     "end_time": "2018-08-02T19:00:29.072493Z",
     "start_time": "2018-08-02T19:00:28.539767Z"
    }
   },
   "outputs": [
    {
     "name": "stdout",
     "output_type": "stream",
     "text": [
      "19.0612102284\n"
     ]
    },
    {
     "data": {
      "image/png": "[encoded data removed]",
      "text/plain": [
       "<matplotlib.figure.Figure at 0x109047910>"
      ]
     },
     "metadata": {},
     "output_type": "display_data"
    }
   ],
   "source": [
    "plt.figure(figsize=(10,10))\n",
    "plt.imshow(snr)\n",
    "plt.colorbar()\n",
    "print np.nanmean(snr)"
   ]
  },
  {
   "cell_type": "code",
   "execution_count": 36,
   "metadata": {
    "ExecuteTime": {
     "end_time": "2018-08-02T19:00:29.455250Z",
     "start_time": "2018-08-02T19:00:29.075874Z"
    }
   },
   "outputs": [
    {
     "data": {
      "text/plain": [
       "<matplotlib.colorbar.Colorbar at 0x102ae0cd0>"
      ]
     },
     "execution_count": 36,
     "metadata": {},
     "output_type": "execute_result"
    },
    {
     "data": {
      "image/png": "[encoded data removed]",
      "text/plain": [
       "<matplotlib.figure.Figure at 0x109165fd0>"
      ]
     },
     "metadata": {},
     "output_type": "display_data"
    }
   ],
   "source": [
    "plt.figure(figsize=(10,10))\n",
    "plt.imshow(savecutout)\n",
    "plt.colorbar()"
   ]
  },
  {
   "cell_type": "code",
   "execution_count": 37,
   "metadata": {
    "ExecuteTime": {
     "end_time": "2018-08-02T19:00:29.750683Z",
     "start_time": "2018-08-02T19:00:29.458339Z"
    }
   },
   "outputs": [
    {
     "data": {
      "text/plain": [
       "(array([   1.,    3.,    1.,    0.,    1.,    2.,    4.,    8.,    7.,\n",
       "           8.,   21.,   21.,   29.,   32.,   60.,   62.,   78.,  107.,\n",
       "         130.,  168.,  183.,  235.,  244.,  239.,  329.,  293.,  325.,\n",
       "         366.,  348.,  327.,  302.,  308.,  262.,  263.,  199.,  178.,\n",
       "         161.,  101.,   99.,   44.,   47.,   34.,   22.,   19.,    8.,\n",
       "           8.,    5.,    2.,    0.,    1.,    1.,    1.]),\n",
       " array([-1.84908575, -1.81299686, -1.77690796, -1.74081906, -1.70473016,\n",
       "        -1.66864126, -1.63255236, -1.59646346, -1.56037456, -1.52428566,\n",
       "        -1.48819676, -1.45210786, -1.41601896, -1.37993006, -1.34384117,\n",
       "        -1.30775227, -1.27166337, -1.23557447, -1.19948557, -1.16339667,\n",
       "        -1.12730777, -1.09121887, -1.05512997, -1.01904107, -0.98295217,\n",
       "        -0.94686327, -0.91077437, -0.87468548, -0.83859658, -0.80250768,\n",
       "        -0.76641878, -0.73032988, -0.69424098, -0.65815208, -0.62206318,\n",
       "        -0.58597428, -0.54988538, -0.51379648, -0.47770758, -0.44161868,\n",
       "        -0.40552979, -0.36944089, -0.33335199, -0.29726309, -0.26117419,\n",
       "        -0.22508529, -0.18899639, -0.15290749, -0.11681859, -0.08072969,\n",
       "        -0.04464079, -0.00855189,  0.02753701]),\n",
       " <a list of 52 Patch objects>)"
      ]
     },
     "execution_count": 37,
     "metadata": {},
     "output_type": "execute_result"
    },
    {
     "data": {
      "image/png": "[encoded data removed]",
      "text/plain": [
       "<matplotlib.figure.Figure at 0x102aee790>"
      ]
     },
     "metadata": {},
     "output_type": "display_data"
    }
   ],
   "source": [
    "# b,a = np.histogram(dx[~np.isnan(dx)],bins=50)\n",
    "plt.hist(dx[~np.isnan(dx)], bins='auto') "
   ]
  },
  {
   "cell_type": "markdown",
   "metadata": {},
   "source": [
    "## Least squares test"
   ]
  },
  {
   "cell_type": "code",
   "execution_count": 38,
   "metadata": {
    "ExecuteTime": {
     "end_time": "2018-08-02T19:00:29.918467Z",
     "start_time": "2018-08-02T19:00:29.753953Z"
    }
   },
   "outputs": [
    {
     "name": "stdout",
     "output_type": "stream",
     "text": [
      "[[  1.14561062e-05]\n",
      " [  9.99998312e-01]\n",
      " [ -8.50123013e-01]\n",
      " [ -7.38918169e-03]]\n",
      "Solved coefficients:\n",
      "[  1.14561062e-05   9.99998312e-01  -8.50123013e-01  -7.38918169e-03]\n",
      "2.36299550421 arcsec\n",
      "[[ 25.08644391]]\n"
     ]
    }
   ],
   "source": [
    "from_pt = []\n",
    "to_pt = []\n",
    "for j in range(x.shape[0]):\n",
    "    for k in range(x.shape[1]):\n",
    "        if good[9,j,k] and ~np.isnan(x[j,k]) and ~np.isnan(y[j,k]) and ~np.isnan(dx[j,k]) and ~np.isnan(dy[j,k]):\n",
    "            from_pt.append([x[j,k]-x.shape[0]//2,y[j,k]-y.shape[0]//2])\n",
    "            to_pt.append([x[j,k]+dx[j,k]-x.shape[0]//2,y[j,k]+dy[j,k]-y.shape[0]//2])\n",
    "\n",
    "A_data = []\n",
    "for pt in from_pt:\n",
    "  A_data.append( [-pt[1], pt[0], 1, 0] )\n",
    "  A_data.append( [ pt[0], pt[1], 0, 1] )\n",
    "\n",
    "b_data = []\n",
    "for pt in to_pt:\n",
    "  b_data.append(pt[0])\n",
    "  b_data.append(pt[1])\n",
    "\n",
    "# Solve\n",
    "A = np.matrix( A_data )\n",
    "b = np.matrix( b_data ).T\n",
    "c,res,rank,sv = np.linalg.lstsq(A, b)\n",
    "print c\n",
    "c = np.array(c.T)[0]\n",
    "\n",
    "print(\"Solved coefficients:\")\n",
    "print(c)\n",
    "print np.rad2deg(np.arctan2(c[0],c[1]))*3600,'arcsec'\n",
    "\n",
    "print np.sqrt(res)"
   ]
  },
  {
   "cell_type": "code",
   "execution_count": 39,
   "metadata": {
    "ExecuteTime": {
     "end_time": "2018-08-02T19:00:29.936047Z",
     "start_time": "2018-08-02T19:00:29.922714Z"
    }
   },
   "outputs": [
    {
     "name": "stdout",
     "output_type": "stream",
     "text": [
      "[[  3.35773933e+09  -1.25017390e-10  -2.60818119e+06   2.61117723e+06]\n",
      " [ -1.25017390e-10   3.35773933e+09   2.61117723e+06   2.60818119e+06]\n",
      " [ -2.60818119e+06   2.61117723e+06   5.69700000e+03   0.00000000e+00]\n",
      " [  2.61117723e+06   2.60818119e+06   0.00000000e+00   5.69700000e+03]]\n",
      "[[  1.03427892e-09  -4.37005172e-26   4.73510060e-07  -4.74053985e-07]\n",
      " [ -1.00348025e-25   1.03427892e-09  -4.74053985e-07  -4.73510060e-07]\n",
      " [  4.73510060e-07  -4.74053985e-07   6.09590837e-04  -1.31162339e-19]\n",
      " [ -4.74053985e-07  -4.73510060e-07  -1.76691032e-19   6.09590837e-04]]\n",
      "[  3.21602070e-05   3.21602070e-05   2.46898934e-02   2.46898934e-02] [  1.72574455e-05   1.72574455e-05   1.32488106e-02   1.32488106e-02]\n"
     ]
    }
   ],
   "source": [
    "Cinv = np.dot(A.T, A)\n",
    "C = np.linalg.inv(Cinv)\n",
    "print Cinv\n",
    "print C\n",
    "print np.sqrt(np.diagonal(C)),np.sqrt(1./np.diagonal(Cinv))"
   ]
  },
  {
   "cell_type": "markdown",
   "metadata": {},
   "source": [
    "# Test written software"
   ]
  },
  {
   "cell_type": "markdown",
   "metadata": {},
   "source": [
    "## First off, need to edit the polychromekey file into a monochromekey file"
   ]
  },
  {
   "cell_type": "code",
   "execution_count": 40,
   "metadata": {
    "ExecuteTime": {
     "end_time": "2018-08-02T19:00:29.960747Z",
     "start_time": "2018-08-02T19:00:29.939905Z"
    }
   },
   "outputs": [
    {
     "name": "stdout",
     "output_type": "stream",
     "text": [
      "[[  201.42063515   195.4349649    189.44929359 ...,  -427.04104736\n",
      "   -433.0256791   -439.01028979]\n",
      " [  213.39195145   207.40627502   201.42059728 ...,  -415.07172988\n",
      "   -421.05639376  -427.04103684]\n",
      " [  225.36329399   219.37761181   213.39192808 ...,  -403.10234031\n",
      "   -409.0870359   -415.07171092]\n",
      " ..., \n",
      " [ 1458.34021014  1452.35627534  1446.37231353 ...,   829.9190217\n",
      "    823.93339986   817.94777312]\n",
      " [ 1470.30810963  1464.32421451  1458.34029212 ...,   841.88973719\n",
      "    835.90412907   829.91851579]\n",
      " [ 1482.27591668  1476.29206166  1470.30817914 ...,   853.86040608\n",
      "    847.87481211   841.88921274]]\n"
     ]
    }
   ],
   "source": [
    "slicenum=9\n",
    "fname = '/Users/mrizzo/IFS/crispy/crispy/ReferenceFiles/wavecalR50_660/polychromekeyR50.fits'\n",
    "polychrome = fits.open(fname)\n",
    "print polychrome[1].data[slicenum]"
   ]
  },
  {
   "cell_type": "code",
   "execution_count": 41,
   "metadata": {
    "ExecuteTime": {
     "end_time": "2018-08-02T19:00:30.024340Z",
     "start_time": "2018-08-02T19:00:29.964318Z"
    },
    "collapsed": true
   },
   "outputs": [],
   "source": [
    "outkey = fits.HDUList(fits.PrimaryHDU(np.asarray([polychrome[0].data[slicenum]])))\n",
    "outkey.append(fits.PrimaryHDU(np.asarray(polychrome[1].data[slicenum])))\n",
    "outkey.append(fits.PrimaryHDU(np.asarray(polychrome[2].data[slicenum])))\n",
    "outkey.append(fits.PrimaryHDU(np.asarray(polychrome[3].data[slicenum])))\n",
    "outkey.writeto('/Users/mrizzo/IFS/crispy-flight/tests/monochromekey_ref.fits', overwrite=True)\n",
    "outkey.writeto('/Users/mrizzo/IFS/crispy-flight/tests/monochromekey.fits', overwrite=True)\n"
   ]
  },
  {
   "cell_type": "markdown",
   "metadata": {},
   "source": [
    "## Test the software"
   ]
  },
  {
   "cell_type": "code",
   "execution_count": 42,
   "metadata": {
    "ExecuteTime": {
     "end_time": "2018-08-02T19:00:30.032196Z",
     "start_time": "2018-08-02T19:00:30.027726Z"
    },
    "collapsed": true
   },
   "outputs": [],
   "source": [
    "from update import update,centroid,apply_update"
   ]
  },
  {
   "cell_type": "code",
   "execution_count": 43,
   "metadata": {
    "ExecuteTime": {
     "end_time": "2018-08-02T19:00:30.052992Z",
     "start_time": "2018-08-02T19:00:30.036254Z"
    },
    "collapsed": true
   },
   "outputs": [],
   "source": [
    "data = fits.getdata('/Users/mrizzo/IFS/crispy-flight/tests/det_660.fits')\n",
    "monochromekey_file = '/Users/mrizzo/IFS/crispy-flight/tests/monochromekey.fits'"
   ]
  },
  {
   "cell_type": "code",
   "execution_count": null,
   "metadata": {
    "ExecuteTime": {
     "start_time": "2018-08-02T19:00:27.612Z"
    },
    "collapsed": true
   },
   "outputs": [],
   "source": [
    "dx,dy,snr = update(data,monochromekey_file)"
   ]
  },
  {
   "cell_type": "code",
   "execution_count": null,
   "metadata": {
    "ExecuteTime": {
     "start_time": "2018-08-02T19:00:27.618Z"
    }
   },
   "outputs": [
    {
     "data": {
      "text/plain": [
       "<matplotlib.legend.Legend at 0x102b18110>"
      ]
     },
     "execution_count": 45,
     "metadata": {},
     "output_type": "execute_result"
    }
   ],
   "source": [
    "plt.hist(dx[~np.isnan(dx)], bins='auto',label='dx') \n",
    "plt.hist(dy[~np.isnan(dy)], bins='auto',label='dy') \n",
    "plt.legend()"
   ]
  },
  {
   "cell_type": "markdown",
   "metadata": {},
   "source": [
    "## Display cutout after shift to make sure it is centered"
   ]
  },
  {
   "cell_type": "code",
   "execution_count": null,
   "metadata": {
    "ExecuteTime": {
     "start_time": "2018-08-02T19:00:27.693Z"
    },
    "collapsed": true
   },
   "outputs": [],
   "source": [
    "j = 54\n",
    "k = 54\n",
    "x = monochromekey[1].data\n",
    "y = monochromekey[2].data\n",
    "halfsize=5\n",
    "xl = x[j,k]+dx[j,k]\n",
    "yl = y[j,k]+dy[j,k]\n",
    "xmin = int(xl-halfsize)+1\n",
    "ymin = int(yl-halfsize)+1\n",
    "\n",
    "cutout = data[ymin:ymin+2*halfsize,xmin:xmin+2*halfsize]\n",
    "\n"
   ]
  },
  {
   "cell_type": "code",
   "execution_count": null,
   "metadata": {
    "ExecuteTime": {
     "start_time": "2018-08-02T19:00:27.699Z"
    },
    "collapsed": true
   },
   "outputs": [],
   "source": [
    "plt.figure(figsize=(10,10))\n",
    "plt.imshow(cutout)"
   ]
  },
  {
   "cell_type": "markdown",
   "metadata": {},
   "source": [
    "## Now test the apply update function"
   ]
  },
  {
   "cell_type": "code",
   "execution_count": 190,
   "metadata": {
    "ExecuteTime": {
     "end_time": "2018-08-02T20:10:17.989799Z",
     "start_time": "2018-08-02T20:10:17.776707Z"
    }
   },
   "outputs": [
    {
     "name": "stdout",
     "output_type": "stream",
     "text": [
      "[ 516.  517.  518.  519.  520.  521.  522.  523.  524.  525.  526.  527.\n",
      "  528.  529.  530.  531.  532.  533.  534.  535.  536.  537.] [ 594.20083582  600.23305409  606.31273134  612.44168317  618.62228457\n",
      "  624.85599686  631.14468988  637.49027476  643.89564076  650.36210433\n",
      "  656.89185606  663.48786911  670.151413    676.88602889  683.69326674\n",
      "  690.5759542   697.53731696  704.5794169   711.70527775  718.91802282\n",
      "  726.22087829  733.61717674]\n",
      "[ 596.0105013   602.05695727  608.15141689  614.29586359  620.49239826\n",
      "  626.74260476  633.04836534  639.41188456  645.83557983  652.32102985\n",
      "  658.87065998  665.48693228  672.17179777  678.92820025  685.75807298\n",
      "  692.66436302  699.64994694  706.71717516  713.86910127  721.10887946\n",
      "  728.43976782  735.83606628]\n"
     ]
    },
    {
     "data": {
      "image/png": "[encoded data removed]",
      "text/plain": [
       "<matplotlib.figure.Figure at 0x18246dfc50>"
      ]
     },
     "metadata": {},
     "output_type": "display_data"
    }
   ],
   "source": [
    "from scipy import interpolate\n",
    "calib = fits.open('/Users/mrizzo/IFS/crispy-flight/tests/calib.fits')\n",
    "xindx = calib[1].data\n",
    "yindx = calib[2].data\n",
    "lams = calib[0].data\n",
    "nlam = calib[3].data.astype(int)\n",
    "ix = 54\n",
    "iy = 54\n",
    "tck_y = interpolate.splrep(xindx[ix,iy,:nlam[ix,iy]], lams[ix,iy,:nlam[ix,iy]], k=1, s=0)\n",
    "plt.plot(xindx[ix,iy,:nlam[ix,iy]], lams[ix,iy,:nlam[ix,iy]])\n",
    "print xindx[ix,iy,:nlam[ix,iy]], lams[ix,iy,:nlam[ix,iy]]\n",
    "new_lam = interpolate.splev(xindx[ix,iy,:nlam[ix,iy]]+0.3, tck_y)\n",
    "print new_lam"
   ]
  },
  {
   "cell_type": "markdown",
   "metadata": {},
   "source": [
    "### Apply only the means of the displacements"
   ]
  },
  {
   "cell_type": "code",
   "execution_count": null,
   "metadata": {
    "ExecuteTime": {
     "start_time": "2018-08-02T19:00:27.850Z"
    },
    "collapsed": true
   },
   "outputs": [],
   "source": [
    "Dx,Dy,sigx,sigy = apply_update(dx,dy,snr,'/Users/mrizzo/IFS/crispy-flight/tests/monochromekey.fits',None,fitrot=False)"
   ]
  },
  {
   "cell_type": "code",
   "execution_count": null,
   "metadata": {
    "ExecuteTime": {
     "start_time": "2018-08-02T19:00:27.855Z"
    },
    "collapsed": true
   },
   "outputs": [],
   "source": [
    "print Dx,Dy,sigx,sigy"
   ]
  },
  {
   "cell_type": "code",
   "execution_count": null,
   "metadata": {
    "ExecuteTime": {
     "start_time": "2018-08-02T19:00:27.860Z"
    },
    "collapsed": true
   },
   "outputs": [],
   "source": [
    "dx,dy,snr = update(data,monochromekey_file)\n",
    "plt.hist(dx[~np.isnan(dx)], bins='auto',label='dx') \n",
    "plt.hist(dy[~np.isnan(dy)], bins='auto',label='dy') \n",
    "plt.legend()"
   ]
  },
  {
   "cell_type": "markdown",
   "metadata": {},
   "source": [
    "### Use rotation and translation"
   ]
  },
  {
   "cell_type": "markdown",
   "metadata": {},
   "source": [
    "Reset monochrome"
   ]
  },
  {
   "cell_type": "code",
   "execution_count": null,
   "metadata": {
    "ExecuteTime": {
     "start_time": "2018-08-02T19:00:28.027Z"
    },
    "collapsed": true
   },
   "outputs": [],
   "source": [
    "outkey = fits.HDUList(fits.PrimaryHDU(np.asarray([polychrome[0].data[slicenum]])))\n",
    "outkey.append(fits.PrimaryHDU(np.asarray(polychrome[1].data[slicenum])))\n",
    "outkey.append(fits.PrimaryHDU(np.asarray(polychrome[2].data[slicenum])))\n",
    "outkey.append(fits.PrimaryHDU(np.asarray(polychrome[3].data[slicenum])))\n",
    "outkey.writeto('/Users/mrizzo/IFS/crispy-flight/tests/monochromekey.fits', overwrite=True)\n"
   ]
  },
  {
   "cell_type": "code",
   "execution_count": null,
   "metadata": {
    "ExecuteTime": {
     "start_time": "2018-08-02T19:00:28.034Z"
    },
    "collapsed": true
   },
   "outputs": [],
   "source": [
    "dx,dy,snr = update(data,'/Users/mrizzo/IFS/crispy-flight/tests/monochromekey.fits')\n",
    "plt.hist(dx[~np.isnan(dx)], bins='auto',label='dx') \n",
    "plt.hist(dy[~np.isnan(dy)], bins='auto',label='dy') \n",
    "plt.legend()"
   ]
  },
  {
   "cell_type": "code",
   "execution_count": null,
   "metadata": {
    "ExecuteTime": {
     "start_time": "2018-08-02T19:00:28.040Z"
    },
    "collapsed": true
   },
   "outputs": [],
   "source": [
    "Dx,Dy,sigx,sigy = apply_update(dx,dy,snr,'/Users/mrizzo/IFS/crispy-flight/tests/monochromekey.fits',None,fitrot=True)"
   ]
  },
  {
   "cell_type": "code",
   "execution_count": null,
   "metadata": {
    "ExecuteTime": {
     "start_time": "2018-08-02T19:00:28.047Z"
    },
    "collapsed": true
   },
   "outputs": [],
   "source": [
    "plt.imshow(Dy)\n",
    "plt.colorbar()"
   ]
  },
  {
   "cell_type": "code",
   "execution_count": null,
   "metadata": {
    "ExecuteTime": {
     "start_time": "2018-08-02T19:00:28.053Z"
    },
    "collapsed": true
   },
   "outputs": [],
   "source": [
    "dx,dy,snr = update(data,'/Users/mrizzo/IFS/crispy-flight/tests/monochromekey.fits')\n",
    "plt.hist(dx[~np.isnan(dx)], bins='auto',label='dx') \n",
    "plt.hist(dy[~np.isnan(dy)], bins='auto',label='dy') \n",
    "plt.legend()"
   ]
  },
  {
   "cell_type": "markdown",
   "metadata": {},
   "source": [
    "# Calibration file"
   ]
  },
  {
   "cell_type": "code",
   "execution_count": 25,
   "metadata": {
    "ExecuteTime": {
     "end_time": "2018-08-02T20:44:45.714524Z",
     "start_time": "2018-08-02T20:44:45.642337Z"
    },
    "collapsed": true
   },
   "outputs": [],
   "source": [
    "calib_hdus = fits.open('/Users/mrizzo/IFS/crispy-flight/tests/PSFloc.fits')\n",
    "sigs = fits.open('/Users/mrizzo/IFS/crispy-flight/tests/PSFwidths.fits')\n",
    "outkey = fits.HDUList(calib_hdus[0])\n",
    "outkey.append(calib_hdus[1])\n",
    "outkey.append(calib_hdus[2])\n",
    "outkey.append(calib_hdus[3])\n",
    "outkey.append(calib_hdus[4])\n",
    "outkey.append(sigs[0])\n",
    "outkey.writeto('/Users/mrizzo/IFS/crispy-flight/tests/calib.fits', overwrite=True)\n",
    "\n"
   ]
  },
  {
   "cell_type": "code",
   "execution_count": 26,
   "metadata": {
    "ExecuteTime": {
     "end_time": "2018-08-02T20:44:45.748325Z",
     "start_time": "2018-08-02T20:44:45.718554Z"
    }
   },
   "outputs": [
    {
     "name": "stdout",
     "output_type": "stream",
     "text": [
      "(108, 108, 23)\n",
      "(108, 108, 23)\n",
      "(108, 108, 23)\n",
      "(108, 108)\n",
      "(108, 108)\n",
      "(108, 108, 23)\n"
     ]
    }
   ],
   "source": [
    "calib = fits.open('/Users/mrizzo/IFS/crispy-flight/tests/calib.fits')\n",
    "for i in range(6):\n",
    "    print calib[i].data.shape"
   ]
  },
  {
   "cell_type": "markdown",
   "metadata": {},
   "source": [
    "# Extraction tests"
   ]
  },
  {
   "cell_type": "code",
   "execution_count": 27,
   "metadata": {
    "ExecuteTime": {
     "end_time": "2018-08-02T20:44:45.756019Z",
     "start_time": "2018-08-02T20:44:45.751475Z"
    },
    "collapsed": true
   },
   "outputs": [],
   "source": [
    "from extract import extract1D\n",
    "from astropy.io import fits\n"
   ]
  },
  {
   "cell_type": "code",
   "execution_count": 28,
   "metadata": {
    "ExecuteTime": {
     "end_time": "2018-08-02T20:44:45.777143Z",
     "start_time": "2018-08-02T20:44:45.759521Z"
    }
   },
   "outputs": [
    {
     "name": "stdout",
     "output_type": "stream",
     "text": [
      "[[  201.42063515   195.4349649    189.44929359 ...,  -427.04104736\n",
      "   -433.0256791   -439.01028979]\n",
      " [  213.39195145   207.40627502   201.42059728 ...,  -415.07172988\n",
      "   -421.05639376  -427.04103684]\n",
      " [  225.36329399   219.37761181   213.39192808 ...,  -403.10234031\n",
      "   -409.0870359   -415.07171092]\n",
      " ..., \n",
      " [ 1458.34021014  1452.35627534  1446.37231353 ...,   829.9190217\n",
      "    823.93339986   817.94777312]\n",
      " [ 1470.30810963  1464.32421451  1458.34029212 ...,   841.88973719\n",
      "    835.90412907   829.91851579]\n",
      " [ 1482.27591668  1476.29206166  1470.30817914 ...,   853.86040608\n",
      "    847.87481211   841.88921274]]\n"
     ]
    }
   ],
   "source": [
    "slicenum=9\n",
    "fname = '/Users/mrizzo/IFS/crispy/crispy/ReferenceFiles/wavecalR50_660/polychromekeyR50.fits'\n",
    "polychrome = fits.open(fname)\n",
    "print polychrome[1].data[slicenum]"
   ]
  },
  {
   "cell_type": "code",
   "execution_count": 29,
   "metadata": {
    "ExecuteTime": {
     "end_time": "2018-08-02T20:44:45.820771Z",
     "start_time": "2018-08-02T20:44:45.780607Z"
    },
    "collapsed": true
   },
   "outputs": [],
   "source": [
    "outkey = fits.HDUList(fits.PrimaryHDU(np.asarray([polychrome[0].data[slicenum]])))\n",
    "outkey.append(fits.PrimaryHDU(np.asarray(polychrome[1].data[slicenum])))\n",
    "outkey.append(fits.PrimaryHDU(np.asarray(polychrome[2].data[slicenum])))\n",
    "outkey.append(fits.PrimaryHDU(np.asarray(polychrome[3].data[slicenum])))\n",
    "outkey.writeto('/Users/mrizzo/IFS/crispy-flight/tests/monochromekey.fits', overwrite=True)\n"
   ]
  },
  {
   "cell_type": "code",
   "execution_count": 30,
   "metadata": {
    "ExecuteTime": {
     "end_time": "2018-08-02T20:44:45.841668Z",
     "start_time": "2018-08-02T20:44:45.824179Z"
    },
    "collapsed": true
   },
   "outputs": [],
   "source": [
    "test660 = '/Users/mrizzo/IFS/crispy-flight/tests/det_660.fits'\n",
    "img = fits.getdata(test660)\n",
    "lamlist = np.arange(600,720,5)"
   ]
  },
  {
   "cell_type": "code",
   "execution_count": 31,
   "metadata": {
    "ExecuteTime": {
     "end_time": "2018-08-02T20:44:46.769049Z",
     "start_time": "2018-08-02T20:44:45.844963Z"
    }
   },
   "outputs": [
    {
     "name": "stdout",
     "output_type": "stream",
     "text": [
      "(5, 23) (5, 23)\n"
     ]
    }
   ],
   "source": [
    "cube = extract1D(img,lamlist,'/Users/mrizzo/IFS/crispy-flight/tests/calib.fits')\n",
    "fits.writeto('/Users/mrizzo/IFS/crispy-flight/tests/cube660.fits',cube,overwrite=True)"
   ]
  },
  {
   "cell_type": "code",
   "execution_count": 32,
   "metadata": {
    "ExecuteTime": {
     "end_time": "2018-08-02T20:44:46.942220Z",
     "start_time": "2018-08-02T20:44:46.772233Z"
    }
   },
   "outputs": [
    {
     "data": {
      "text/plain": [
       "[<matplotlib.lines.Line2D at 0x10f9e21d0>]"
      ]
     },
     "execution_count": 32,
     "metadata": {},
     "output_type": "execute_result"
    },
    {
     "data": {
      "image/png": "[encoded data removed]",
      "text/plain": [
       "<matplotlib.figure.Figure at 0x10f347990>"
      ]
     },
     "metadata": {},
     "output_type": "display_data"
    }
   ],
   "source": [
    "plt.plot(lamlist,np.nansum(np.nansum(cube,axis=2),axis=1))"
   ]
  },
  {
   "cell_type": "code",
   "execution_count": 33,
   "metadata": {
    "ExecuteTime": {
     "end_time": "2018-08-02T20:44:46.957570Z",
     "start_time": "2018-08-02T20:44:46.945899Z"
    }
   },
   "outputs": [
    {
     "name": "stdout",
     "output_type": "stream",
     "text": [
      "660.697877935\n"
     ]
    }
   ],
   "source": [
    "from scipy.optimize import curve_fit\n",
    "def gauss(x, a, x0, sig,b):\n",
    "    return b+a*np.exp(-(x-x0)**2/(2.*sig**2))\n",
    "\n",
    "vals = np.nansum(np.nansum(cube,axis=2),axis=1)\n",
    "popt, pcov = curve_fit(gauss, lamlist, \n",
    "            vals,\n",
    "            p0=[np.amax(vals),lamlist[np.argmax(vals)],5,0])\n",
    "print popt[1]\n",
    "# evaluate arrays\n",
    "curve_vals = gauss(lamlist, *popt)\n"
   ]
  },
  {
   "cell_type": "code",
   "execution_count": 34,
   "metadata": {
    "ExecuteTime": {
     "end_time": "2018-08-02T20:44:47.131102Z",
     "start_time": "2018-08-02T20:44:46.961190Z"
    }
   },
   "outputs": [
    {
     "data": {
      "text/plain": [
       "[<matplotlib.lines.Line2D at 0x10f913490>]"
      ]
     },
     "execution_count": 34,
     "metadata": {},
     "output_type": "execute_result"
    },
    {
     "data": {
      "image/png": "[encoded data removed]",
      "text/plain": [
       "<matplotlib.figure.Figure at 0x10f913310>"
      ]
     },
     "metadata": {},
     "output_type": "display_data"
    }
   ],
   "source": [
    "plt.plot(lamlist,curve_vals)\n",
    "plt.plot(lamlist,vals)\n"
   ]
  },
  {
   "cell_type": "markdown",
   "metadata": {},
   "source": [
    "## Test the extraction - update cycle"
   ]
  },
  {
   "cell_type": "markdown",
   "metadata": {},
   "source": [
    "1. Extract 660 cube with normal wavecal and save; find the peak (should be around 660)\n",
    "2. Update wavecal with 655 cube, faking an overall wavecal shift\n",
    "3. Extract 655 cube and save; find the peak (should STILL be around 660)\n",
    "4. Extract 660 cube and save; find the peak (should be around 665)"
   ]
  },
  {
   "cell_type": "code",
   "execution_count": 35,
   "metadata": {
    "ExecuteTime": {
     "end_time": "2018-08-02T20:44:47.138042Z",
     "start_time": "2018-08-02T20:44:47.134086Z"
    },
    "collapsed": true
   },
   "outputs": [],
   "source": [
    "from update import update,centroid,apply_update"
   ]
  },
  {
   "cell_type": "code",
   "execution_count": 36,
   "metadata": {
    "ExecuteTime": {
     "end_time": "2018-08-02T20:44:48.011537Z",
     "start_time": "2018-08-02T20:44:47.141550Z"
    }
   },
   "outputs": [
    {
     "name": "stdout",
     "output_type": "stream",
     "text": [
      "(5, 23) (5, 23)\n",
      "660.697877935\n"
     ]
    }
   ],
   "source": [
    "data = fits.getdata('/Users/mrizzo/IFS/crispy-flight/tests/det_660.fits')\n",
    "monochromekey_file = '/Users/mrizzo/IFS/crispy-flight/tests/monochromekey.fits'\n",
    "cube = extract1D(data,lamlist,'/Users/mrizzo/IFS/crispy-flight/tests/calib.fits')\n",
    "vals = np.nansum(np.nansum(cube,axis=2),axis=1)\n",
    "popt, pcov = curve_fit(gauss, lamlist, \n",
    "            vals,\n",
    "            p0=[np.amax(vals),lamlist[np.argmax(vals)],5,0])\n",
    "print popt[1]\n"
   ]
  },
  {
   "cell_type": "code",
   "execution_count": 37,
   "metadata": {
    "ExecuteTime": {
     "end_time": "2018-08-02T20:44:48.813055Z",
     "start_time": "2018-08-02T20:44:48.014363Z"
    },
    "collapsed": true
   },
   "outputs": [],
   "source": [
    "dx,dy,snr = update(data,monochromekey_file)"
   ]
  },
  {
   "cell_type": "code",
   "execution_count": 38,
   "metadata": {
    "ExecuteTime": {
     "end_time": "2018-08-02T20:44:49.257036Z",
     "start_time": "2018-08-02T20:44:48.815477Z"
    }
   },
   "outputs": [
    {
     "data": {
      "text/plain": [
       "<matplotlib.legend.Legend at 0x110e01950>"
      ]
     },
     "execution_count": 38,
     "metadata": {},
     "output_type": "execute_result"
    },
    {
     "data": {
      "image/png": "[encoded data removed]",
      "text/plain": [
       "<matplotlib.figure.Figure at 0x10f9aa210>"
      ]
     },
     "metadata": {},
     "output_type": "display_data"
    }
   ],
   "source": [
    "plt.hist(dx[~np.isnan(dx)], bins='auto',label='dx') \n",
    "plt.hist(dy[~np.isnan(dy)], bins='auto',label='dy') \n",
    "plt.legend()"
   ]
  },
  {
   "cell_type": "code",
   "execution_count": 39,
   "metadata": {
    "ExecuteTime": {
     "end_time": "2018-08-02T20:44:49.266830Z",
     "start_time": "2018-08-02T20:44:49.259899Z"
    }
   },
   "outputs": [
    {
     "name": "stdout",
     "output_type": "stream",
     "text": [
      "-0.0891413156501 0.00370488557676\n"
     ]
    }
   ],
   "source": [
    "print np.nanmean(dx),np.nanmean(dy)"
   ]
  },
  {
   "cell_type": "code",
   "execution_count": 40,
   "metadata": {
    "ExecuteTime": {
     "end_time": "2018-08-02T20:44:49.772280Z",
     "start_time": "2018-08-02T20:44:49.270788Z"
    }
   },
   "outputs": [
    {
     "name": "stdout",
     "output_type": "stream",
     "text": [
      "0.1 0.0\n",
      "0.1 0.0\n"
     ]
    }
   ],
   "source": [
    "Dx,Dy,sigx,sigy = apply_update(-0.1*np.ones_like(dx,dtype=np.float),\n",
    "                               0.0*np.ones_like(dy,dtype=np.float),\n",
    "                               snr,\n",
    "                               '/Users/mrizzo/IFS/crispy-flight/tests/monochromekey.fits',\n",
    "                               '/Users/mrizzo/IFS/crispy-flight/tests/calib.fits',\n",
    "                               fitrot=False)\n",
    "print Dx,Dy"
   ]
  },
  {
   "cell_type": "code",
   "execution_count": 41,
   "metadata": {
    "ExecuteTime": {
     "end_time": "2018-08-02T20:44:49.805673Z",
     "start_time": "2018-08-02T20:44:49.775887Z"
    }
   },
   "outputs": [
    {
     "name": "stdout",
     "output_type": "stream",
     "text": [
      "(108, 108, 23)\n",
      "(108, 108, 23)\n",
      "(108, 108, 23)\n",
      "(108, 108)\n",
      "(108, 108)\n",
      "(108, 108, 23)\n"
     ]
    }
   ],
   "source": [
    "calib = fits.open('/Users/mrizzo/IFS/crispy-flight/tests/calib.fits')\n",
    "for i in range(6):\n",
    "    print calib[i].data.shape"
   ]
  },
  {
   "cell_type": "code",
   "execution_count": 42,
   "metadata": {
    "ExecuteTime": {
     "end_time": "2018-08-02T20:44:50.765635Z",
     "start_time": "2018-08-02T20:44:49.808553Z"
    }
   },
   "outputs": [
    {
     "name": "stdout",
     "output_type": "stream",
     "text": [
      "(5, 23) (5, 23)\n"
     ]
    }
   ],
   "source": [
    "test660 = '/Users/mrizzo/IFS/crispy-flight/tests/det_660.fits'\n",
    "img = fits.getdata(test660)\n",
    "lamlist = np.arange(600,720,5)\n",
    "cube = extract1D(img,lamlist,'/Users/mrizzo/IFS/crispy-flight/tests/calib.fits')\n",
    "fits.writeto('/Users/mrizzo/IFS/crispy-flight/tests/cube660_after_shift.fits',cube,overwrite=True)"
   ]
  },
  {
   "cell_type": "code",
   "execution_count": 43,
   "metadata": {
    "ExecuteTime": {
     "end_time": "2018-08-02T20:44:50.959768Z",
     "start_time": "2018-08-02T20:44:50.769062Z"
    }
   },
   "outputs": [
    {
     "name": "stdout",
     "output_type": "stream",
     "text": [
      "661.362069677\n"
     ]
    },
    {
     "data": {
      "text/plain": [
       "[<matplotlib.lines.Line2D at 0x181ad694d0>]"
      ]
     },
     "execution_count": 43,
     "metadata": {},
     "output_type": "execute_result"
    },
    {
     "data": {
      "image/png": "[encoded data removed]",
      "text/plain": [
       "<matplotlib.figure.Figure at 0x181ac9a350>"
      ]
     },
     "metadata": {},
     "output_type": "display_data"
    }
   ],
   "source": [
    "vals = np.nansum(np.nansum(cube,axis=2),axis=1)\n",
    "popt, pcov = curve_fit(gauss, lamlist, \n",
    "            vals,\n",
    "            p0=[np.amax(vals),lamlist[np.argmax(vals)],5,0])\n",
    "print popt[1]\n",
    "curve_vals = gauss(lamlist, *popt)\n",
    "plt.plot(lamlist,curve_vals)\n",
    "plt.plot(lamlist,vals)\n"
   ]
  },
  {
   "cell_type": "code",
   "execution_count": null,
   "metadata": {
    "collapsed": true
   },
   "outputs": [],
   "source": []
  },
  {
   "cell_type": "code",
   "execution_count": 44,
   "metadata": {
    "ExecuteTime": {
     "end_time": "2018-08-02T20:44:50.978828Z",
     "start_time": "2018-08-02T20:44:50.963011Z"
    },
    "collapsed": true
   },
   "outputs": [],
   "source": [
    "test655 = '/Users/mrizzo/IFS/crispy-flight/tests/det_655.fits'\n",
    "img = fits.getdata(test655)\n",
    "lamlist = np.arange(600,720,5)"
   ]
  },
  {
   "cell_type": "code",
   "execution_count": 45,
   "metadata": {
    "ExecuteTime": {
     "end_time": "2018-08-02T20:44:51.854689Z",
     "start_time": "2018-08-02T20:44:50.982240Z"
    }
   },
   "outputs": [
    {
     "name": "stdout",
     "output_type": "stream",
     "text": [
      "(5, 23) (5, 23)\n"
     ]
    }
   ],
   "source": [
    "ncube = extract1D(img,lamlist,'/Users/mrizzo/IFS/crispy-flight/tests/calib.fits')\n",
    "fits.writeto('/Users/mrizzo/IFS/crispy-flight/tests/cube655.fits',cube,overwrite=True)"
   ]
  },
  {
   "cell_type": "code",
   "execution_count": 46,
   "metadata": {
    "ExecuteTime": {
     "end_time": "2018-08-02T20:44:51.867947Z",
     "start_time": "2018-08-02T20:44:51.857886Z"
    }
   },
   "outputs": [
    {
     "name": "stdout",
     "output_type": "stream",
     "text": [
      "656.355056124\n"
     ]
    }
   ],
   "source": [
    "vals = np.nansum(np.nansum(ncube,axis=2),axis=1)\n",
    "npopt, pcov = curve_fit(gauss, lamlist, \n",
    "            vals,\n",
    "            p0=[np.amax(vals),lamlist[np.argmax(vals)],5,0])\n",
    "print npopt[1]\n"
   ]
  }
 ],
 "metadata": {
  "kernelspec": {
   "display_name": "Python 2",
   "language": "python",
   "name": "python2"
  },
  "language_info": {
   "codemirror_mode": {
    "name": "ipython",
    "version": 2
   },
   "file_extension": ".py",
   "mimetype": "text/x-python",
   "name": "python",
   "nbconvert_exporter": "python",
   "pygments_lexer": "ipython2",
   "version": "2.7.14"
  },
  "latex_envs": {
   "LaTeX_envs_menu_present": true,
   "autoclose": false,
   "autocomplete": true,
   "bibliofile": "biblio.bib",
   "cite_by": "apalike",
   "current_citInitial": 1,
   "eqLabelWithNumbers": true,
   "eqNumInitial": 1,
   "hotkeys": {
    "equation": "Ctrl-E",
    "itemize": "Ctrl-I"
   },
   "labels_anchors": false,
   "latex_user_defs": false,
   "report_style_numbering": false,
   "user_envs_cfg": false
  },
  "toc": {
   "nav_menu": {},
   "number_sections": true,
   "sideBar": true,
   "skip_h1_title": false,
   "title_cell": "Table of Contents",
   "title_sidebar": "Contents",
   "toc_cell": false,
   "toc_position": {
    "height": "calc(100% - 180px)",
    "left": "10px",
    "top": "150px",
    "width": "336px"
   },
   "toc_section_display": true,
   "toc_window_display": true
  },
  "varInspector": {
   "cols": {
    "lenName": 16,
    "lenType": 16,
    "lenVar": 40
   },
   "kernels_config": {
    "python": {
     "delete_cmd_postfix": "",
     "delete_cmd_prefix": "del ",
     "library": "var_list.py",
     "varRefreshCmd": "print(var_dic_list())"
    },
    "r": {
     "delete_cmd_postfix": ") ",
     "delete_cmd_prefix": "rm(",
     "library": "var_list.r",
     "varRefreshCmd": "cat(var_dic_list()) "
    }
   },
   "types_to_exclude": [
    "module",
    "function",
    "builtin_function_or_method",
    "instance",
    "_Feature"
   ],
   "window_display": false
  }
 },
 "nbformat": 4,
 "nbformat_minor": 2
}
